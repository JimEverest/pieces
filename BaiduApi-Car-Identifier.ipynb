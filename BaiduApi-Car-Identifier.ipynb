{
 "cells": [
  {
   "cell_type": "code",
   "execution_count": 1,
   "metadata": {
    "collapsed": true
   },
   "outputs": [],
   "source": [
    "from aip import AipImageClassify\n",
    "import cv2\n",
    "import matplotlib.pyplot as plt\n",
    "from glob import glob\n",
    "import time\n",
    "\n",
    "import os"
   ]
  },
  {
   "cell_type": "code",
   "execution_count": 2,
   "metadata": {
    "collapsed": true
   },
   "outputs": [],
   "source": [
    "APP_ID = '11169082'\n",
    "API_KEY = 'xUzn3kBiiAEyMzBPscDoSF08'\n",
    "SECRET_KEY = 'heSAxjrFo1TEGpQcNHGi3kO5zWfOhg4O'\n",
    "\n",
    "client = AipImageClassify(APP_ID, API_KEY, SECRET_KEY)"
   ]
  },
  {
   "cell_type": "code",
   "execution_count": 7,
   "metadata": {
    "collapsed": true
   },
   "outputs": [],
   "source": [
    "PATH = 'I:/AI-car/car_ims/car_ims/car_ims/*'"
   ]
  },
  {
   "cell_type": "code",
   "execution_count": 8,
   "metadata": {
    "collapsed": true
   },
   "outputs": [],
   "source": [
    "def get_file(path):\n",
    "    with open(path, 'rb') as fp:\n",
    "        return fp.read()"
   ]
  },
  {
   "cell_type": "code",
   "execution_count": 9,
   "metadata": {},
   "outputs": [
    {
     "data": {
      "text/plain": [
       "16185"
      ]
     },
     "execution_count": 9,
     "metadata": {},
     "output_type": "execute_result"
    }
   ],
   "source": [
    "len(glob(PATH))"
   ]
  },
  {
   "cell_type": "code",
   "execution_count": 10,
   "metadata": {
    "scrolled": false
   },
   "outputs": [
    {
     "name": "stdout",
     "output_type": "stream",
     "text": [
      "0 Done...\n",
      "All Done...................\n"
     ]
    }
   ],
   "source": [
    "for i, pth in enumerate(glob(PATH)):\n",
    "    try:\n",
    "        directory = pth.split('/')[0] + '/' +pth.split('/')[1]+'/' +pth.split('/')[2]+'/' +pth.split('/')[3]+'/' +'CarLabels2'+'/'\n",
    "        #print(directory)\n",
    "\n",
    "        fileext = pth.split('/')[-1].split('.')[-1]\n",
    "        showimage = cv2.imread(pth)\n",
    "        show = cv2.cvtColor(showimage, cv2.COLOR_BGR2RGB)\n",
    "    #     plt.imshow(show)\n",
    "    #     plt.show()\n",
    "        options = {}\n",
    "        options['top_num'] = 1\n",
    "        image = get_file(pth)\n",
    "        result = client.carDetect(image, options)\n",
    "        finalfile = directory + result['result'][0]['name'] + '_'+ str(i) + '.' + fileext\n",
    "        cv2.imwrite(finalfile,showimage)\n",
    "        #print(result.name + str(i))\n",
    "        os.remove(pth)\n",
    "        time.sleep(0.1)\n",
    "        \n",
    "        if(i%50 ==0 ):\n",
    "            print(str(i), 'Done...')\n",
    "    except Exception as e:\n",
    "        print('Error------>' , str(i),'------>', str(pth),'------>', str(e))\n",
    "        continue\n",
    "    break\n",
    "print('All Done...................')"
   ]
  },
  {
   "cell_type": "code",
   "execution_count": 11,
   "metadata": {},
   "outputs": [
    {
     "ename": "error",
     "evalue": "C:\\projects\\opencv-python\\opencv\\modules\\imgproc\\src\\color.cpp:10606: error: (-215) scn == 3 || scn == 4 in function cv::cvtColor\n",
     "output_type": "error",
     "traceback": [
      "\u001b[1;31m---------------------------------------------------------------------------\u001b[0m",
      "\u001b[1;31merror\u001b[0m                                     Traceback (most recent call last)",
      "\u001b[1;32m<ipython-input-11-02a9042d01c3>\u001b[0m in \u001b[0;36m<module>\u001b[1;34m()\u001b[0m\n\u001b[0;32m      1\u001b[0m \u001b[0mshowimage\u001b[0m \u001b[1;33m=\u001b[0m \u001b[0mcv2\u001b[0m\u001b[1;33m.\u001b[0m\u001b[0mimread\u001b[0m\u001b[1;33m(\u001b[0m\u001b[0mPATH\u001b[0m\u001b[1;33m)\u001b[0m\u001b[1;33m\u001b[0m\u001b[0m\n\u001b[1;32m----> 2\u001b[1;33m \u001b[0mshow\u001b[0m \u001b[1;33m=\u001b[0m \u001b[0mcv2\u001b[0m\u001b[1;33m.\u001b[0m\u001b[0mcvtColor\u001b[0m\u001b[1;33m(\u001b[0m\u001b[0mshowimage\u001b[0m\u001b[1;33m,\u001b[0m \u001b[0mcv2\u001b[0m\u001b[1;33m.\u001b[0m\u001b[0mCOLOR_BGR2RGB\u001b[0m\u001b[1;33m)\u001b[0m\u001b[1;33m\u001b[0m\u001b[0m\n\u001b[0m\u001b[0;32m      3\u001b[0m \u001b[0mplt\u001b[0m\u001b[1;33m.\u001b[0m\u001b[0mimshow\u001b[0m\u001b[1;33m(\u001b[0m\u001b[0mshow\u001b[0m\u001b[1;33m)\u001b[0m\u001b[1;33m\u001b[0m\u001b[0m\n\u001b[0;32m      4\u001b[0m \u001b[0mplt\u001b[0m\u001b[1;33m.\u001b[0m\u001b[0mshow\u001b[0m\u001b[1;33m(\u001b[0m\u001b[1;33m)\u001b[0m\u001b[1;33m\u001b[0m\u001b[0m\n\u001b[0;32m      5\u001b[0m \u001b[1;33m\u001b[0m\u001b[0m\n",
      "\u001b[1;31merror\u001b[0m: C:\\projects\\opencv-python\\opencv\\modules\\imgproc\\src\\color.cpp:10606: error: (-215) scn == 3 || scn == 4 in function cv::cvtColor\n"
     ]
    }
   ],
   "source": [
    "showimage = cv2.imread(PATH)\n",
    "show = cv2.cvtColor(showimage, cv2.COLOR_BGR2RGB)\n",
    "plt.imshow(show)\n",
    "plt.show()\n",
    "\n",
    "options = {}\n",
    "options['top_num'] = 1\n",
    "image = get_file(PATH)\n",
    "client.carDetect(image, options)\n"
   ]
  },
  {
   "cell_type": "code",
   "execution_count": 19,
   "metadata": {
    "collapsed": true
   },
   "outputs": [],
   "source": [
    "r = {'log_id': 5568929693257822564, 'location_result': {'width': 630, 'top': 151, 'height': 380, 'left': 168}, 'result': [{'score': 0.99917483329773, 'name': '标致307', 'year': '2008-2013'}], 'color_result': '颜色无法识别'}"
   ]
  },
  {
   "cell_type": "code",
   "execution_count": 24,
   "metadata": {},
   "outputs": [
    {
     "data": {
      "text/plain": [
       "'标致307'"
      ]
     },
     "execution_count": 24,
     "metadata": {},
     "output_type": "execute_result"
    }
   ],
   "source": []
  },
  {
   "cell_type": "code",
   "execution_count": null,
   "metadata": {
    "collapsed": true
   },
   "outputs": [],
   "source": []
  }
 ],
 "metadata": {
  "kernelspec": {
   "display_name": "Python 3",
   "language": "python",
   "name": "python3"
  },
  "language_info": {
   "codemirror_mode": {
    "name": "ipython",
    "version": 3
   },
   "file_extension": ".py",
   "mimetype": "text/x-python",
   "name": "python",
   "nbconvert_exporter": "python",
   "pygments_lexer": "ipython3",
   "version": "3.6.3"
  }
 },
 "nbformat": 4,
 "nbformat_minor": 2
}
