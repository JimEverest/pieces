{
 "cells": [
  {
   "cell_type": "code",
   "execution_count": 2,
   "metadata": {},
   "outputs": [],
   "source": [
    "import cv2\n",
    "import matplotlib.pyplot as plt\n",
    "import time\n",
    "import vlc\n",
    "import av\n",
    "import numpy as np"
   ]
  },
  {
   "cell_type": "code",
   "execution_count": null,
   "metadata": {},
   "outputs": [],
   "source": []
  },
  {
   "cell_type": "code",
   "execution_count": 13,
   "metadata": {},
   "outputs": [],
   "source": [
    "GAUSSIAN_KERNEL=5\n",
    "cams=4\n",
    "savepath = 'steeloutput/'\n",
    "\n",
    "addr0='rtmp://24646.liveplay.myqcloud.com/live/24646_warehouse_10010'\n",
    "addr1='rtmp://24646.liveplay.myqcloud.com/live/24646_warehouse_10011'\n",
    "addr2='rtmp://24646.liveplay.myqcloud.com/live/24646_warehouse_10002'\n",
    "addr3='rtmp://24646.liveplay.myqcloud.com/live/24646_warehouse_10002'"
   ]
  },
  {
   "cell_type": "code",
   "execution_count": 16,
   "metadata": {},
   "outputs": [
    {
     "data": {
      "text/plain": [
       "(5.523744821548462, True)"
      ]
     },
     "execution_count": 16,
     "metadata": {},
     "output_type": "execute_result"
    }
   ],
   "source": [
    "# check stream connectivity\n",
    "cur = time.time()\n",
    "videoAddr=addr0\n",
    "video = cv2.VideoCapture(videoAddr)\n",
    "res,frame = video.read()\n",
    "timelast = time.time() - cur\n",
    "timelast, res"
   ]
  },
  {
   "cell_type": "code",
   "execution_count": 10,
   "metadata": {},
   "outputs": [],
   "source": [
    "err"
   ]
  },
  {
   "cell_type": "code",
   "execution_count": null,
   "metadata": {},
   "outputs": [],
   "source": [
    "def captureFrame(cap, index):\n",
    "    if not cap.open:\n",
    "        print (\"Not open\")\n",
    "    while (True):\n",
    "        err,img = cap.read()\n",
    "        if img is not None and img.any() and img.shape != (0,0):\n",
    "            print('img-----------')\n",
    "            print('img.shape----->', img.shape)\n",
    "            cv2.imwrite(\"steeloutput/test/img\"+str(x)+\".png\", img)\n",
    "            #cv2.imshow(\"camCapture\", img)\n",
    "        if err:\n",
    "            print ('err--->', err)\n",
    "            #break\n",
    "        x+=1"
   ]
  },
  {
   "cell_type": "code",
   "execution_count": 13,
   "metadata": {},
   "outputs": [
    {
     "ename": "KeyboardInterrupt",
     "evalue": "",
     "output_type": "error",
     "traceback": [
      "\u001b[1;31m---------------------------------------------------------------------------\u001b[0m",
      "\u001b[1;31mKeyboardInterrupt\u001b[0m                         Traceback (most recent call last)",
      "\u001b[1;32m<ipython-input-13-91ab464f840f>\u001b[0m in \u001b[0;36m<module>\u001b[1;34m()\u001b[0m\n\u001b[0;32m     13\u001b[0m         \u001b[0mtime\u001b[0m\u001b[1;33m.\u001b[0m\u001b[0msleep\u001b[0m\u001b[1;33m(\u001b[0m\u001b[1;36m0.2\u001b[0m\u001b[1;33m)\u001b[0m              \u001b[1;31m# <= Simulate processing time\u001b[0m\u001b[1;33m\u001b[0m\u001b[0m\n\u001b[0;32m     14\u001b[0m         \u001b[1;31m#cv2.imshow('VIDEO', frame)\u001b[0m\u001b[1;33m\u001b[0m\u001b[1;33m\u001b[0m\u001b[0m\n\u001b[1;32m---> 15\u001b[1;33m         \u001b[0mcv2\u001b[0m\u001b[1;33m.\u001b[0m\u001b[0mimwrite\u001b[0m\u001b[1;33m(\u001b[0m\u001b[1;34m\"steeloutput/test/img\"\u001b[0m\u001b[1;33m+\u001b[0m\u001b[0mstr\u001b[0m\u001b[1;33m(\u001b[0m\u001b[0mx\u001b[0m\u001b[1;33m)\u001b[0m\u001b[1;33m+\u001b[0m\u001b[1;34m\".png\"\u001b[0m\u001b[1;33m,\u001b[0m \u001b[0mframe\u001b[0m\u001b[1;33m)\u001b[0m\u001b[1;33m\u001b[0m\u001b[0m\n\u001b[0m\u001b[0;32m     16\u001b[0m \u001b[1;33m\u001b[0m\u001b[0m\n\u001b[0;32m     17\u001b[0m \u001b[1;33m\u001b[0m\u001b[0m\n",
      "\u001b[1;31mKeyboardInterrupt\u001b[0m: "
     ]
    }
   ],
   "source": [
    "#cv2.namedWindow(\"camCapture\", cv2.WINDOW_NORMAL)\n",
    "cap = cv2.VideoCapture(addr)\n",
    "cap.set(cv2.CAP_PROP_POS_FRAMES, 25)\n",
    "x=0\n",
    "#cap.open(addr)\n",
    "if not cap.open:\n",
    "    print (\"Not open\")\n",
    "while (True):\n",
    "    ret = cap.grab()\n",
    "    if x % 25 == 0: # skip some frames\n",
    "        ret, frame = cap.retrieve()\n",
    "        if not ret: break\n",
    "        time.sleep(0.2)              # <= Simulate processing time\n",
    "        #cv2.imshow('VIDEO', frame)\n",
    "        cv2.imwrite(\"steeloutput/test/img\"+str(x)+\".png\", frame)\n",
    "    x+=1"
   ]
  },
  {
   "cell_type": "code",
   "execution_count": null,
   "metadata": {},
   "outputs": [],
   "source": []
  },
  {
   "cell_type": "code",
   "execution_count": 18,
   "metadata": {},
   "outputs": [],
   "source": [
    "# def capPlayer2(container, index):\n",
    "#     stream = container.streams.video[0]\n",
    "#     print(stream)\n",
    "#     stream.codec_context.skip_frame = 'NONKEY'\n",
    "\n",
    "#     for frame in container.decode(stream):\n",
    "\n",
    "#         print(frame)\n",
    "#         # We use `frame.pts` as `frame.index` won't make must sense with the `skip_frame`.\n",
    "#         frame.to_image().save(\n",
    "#             'steeloutput/test/night-sky.{:04d}.{:04d}.jpg'.format(frame.index),\n",
    "#             quality=80,\n",
    "#             size\n",
    "#         )"
   ]
  },
  {
   "cell_type": "code",
   "execution_count": 35,
   "metadata": {},
   "outputs": [],
   "source": [
    "def capPlayer(player,index):   \n",
    "    global lastFrameIDs\n",
    "    lastid = 0\n",
    "    stream = player.streams.video[0]\n",
    "    for frame in player.decode(stream):\n",
    "#     for packet in player.demux():\n",
    "#         for frame in packet.decode():\n",
    "            #if frame.type == 'video':\n",
    "            \n",
    "            currtime = time.time()\n",
    "            currid = frame.index\n",
    "            if(currid - lastFrameIDs[index]) >= 26:\n",
    "                print('frame.index--->', str(frame.index))\n",
    "                filename='steeloutput/raw/cam-{0}-frame-{1}.png'.format(index,frame.index)\n",
    "                frame.to_image().save(filename,quality=60)\n",
    "                #lastimte = curr\n",
    "                #lastFrameIDs[index] = currid\n",
    "                currFrames= cv2.imread(filename, cv2.IMREAD_GRAYSCALE )\n",
    "                currFrames = cv2.GaussianBlur(currFrames, (GAUSSIAN_KERNEL,GAUSSIAN_KERNEL), 0)\n",
    "                lastFrameIDs[index] = currid\n",
    "                print ('return currFrames from capPlayer:' , currFrames.shape)\n",
    "                return currFrames\n",
    "            else:\n",
    "                continue"
   ]
  },
  {
   "cell_type": "code",
   "execution_count": 37,
   "metadata": {},
   "outputs": [
    {
     "data": {
      "text/plain": [
       "6.8016321659088135"
      ]
     },
     "execution_count": 37,
     "metadata": {},
     "output_type": "execute_result"
    }
   ],
   "source": [
    "# check stream connectivity\n",
    "cur = time.time()\n",
    "videoAddr=\"rtmp://24646.liveplay.myqcloud.com/live/24646_warehouse_10002\"\n",
    "video = cv2.VideoCapture(videoAddr)\n",
    "frame,err = video.read()\n",
    "timelast = time.time() - cur\n",
    "timelast"
   ]
  },
  {
   "cell_type": "markdown",
   "metadata": {},
   "source": [
    "show = cv2.cvtColor(err, cv2.COLOR_BGR2RGB)\n",
    "plt.figure(figsize=(10,10))\n",
    "plt.imshow(err)\n",
    "plt.show()"
   ]
  },
  {
   "cell_type": "markdown",
   "metadata": {
    "collapsed": true
   },
   "source": [
    "ffplay rtmp://24646.liveplay.myqcloud.com/live/24646_warehouse_10002 -loglevel verbose"
   ]
  },
  {
   "cell_type": "code",
   "execution_count": 39,
   "metadata": {
    "scrolled": true
   },
   "outputs": [
    {
     "name": "stdout",
     "output_type": "stream",
     "text": [
      "38.43716859817505\n",
      "29.81021022796631\n",
      "53.29076099395752\n",
      "113.88595533370972\n"
     ]
    }
   ],
   "source": [
    "# for av\n",
    "\n",
    "player=[]\n",
    "for i in range(cams):\n",
    "    cur = time.time()\n",
    "    player.append(av.open(addr))\n",
    "    timelast = time.time() - cur\n",
    "    print(timelast)"
   ]
  },
  {
   "cell_type": "code",
   "execution_count": 25,
   "metadata": {},
   "outputs": [
    {
     "name": "stdout",
     "output_type": "stream",
     "text": [
      "frame.index---> 78\n",
      "return currFrames from capPlayer: (1440, 2560)\n"
     ]
    },
    {
     "data": {
      "text/plain": [
       "array([[ 83,  83,  83, ..., 146, 146, 146],\n",
       "       [ 83,  84,  84, ..., 146, 146, 146],\n",
       "       [ 84,  84,  84, ..., 146, 146, 146],\n",
       "       ...,\n",
       "       [ 52,  52,  51, ...,  87,  85,  84],\n",
       "       [ 52,  52,  51, ...,  86,  84,  83],\n",
       "       [ 52,  52,  51, ...,  86,  84,  83]], dtype=uint8)"
      ]
     },
     "execution_count": 25,
     "metadata": {},
     "output_type": "execute_result"
    }
   ],
   "source": [
    "capPlayer(player[1],1)"
   ]
  },
  {
   "cell_type": "markdown",
   "metadata": {},
   "source": [
    "# for vlc\n",
    "player=[]\n",
    "for i in range(cams):\n",
    "    player.append(vlc.MediaPlayer('rtmp://24646.liveplay.myqcloud.com/live/24646_warehouse_10002'))\n",
    "    player[i].play()"
   ]
  },
  {
   "cell_type": "code",
   "execution_count": 8,
   "metadata": {},
   "outputs": [
    {
     "ename": "NameError",
     "evalue": "name 'player' is not defined",
     "output_type": "error",
     "traceback": [
      "\u001b[1;31m---------------------------------------------------------------------------\u001b[0m",
      "\u001b[1;31mNameError\u001b[0m                                 Traceback (most recent call last)",
      "\u001b[1;32m<ipython-input-8-75db05a1b38a>\u001b[0m in \u001b[0;36m<module>\u001b[1;34m()\u001b[0m\n\u001b[1;32m----> 1\u001b[1;33m \u001b[0mplayer\u001b[0m\u001b[1;33m[\u001b[0m\u001b[1;36m0\u001b[0m\u001b[1;33m]\u001b[0m\u001b[1;33m\u001b[0m\u001b[0m\n\u001b[0m",
      "\u001b[1;31mNameError\u001b[0m: name 'player' is not defined"
     ]
    }
   ],
   "source": [
    "player[0]"
   ]
  },
  {
   "cell_type": "code",
   "execution_count": 12,
   "metadata": {},
   "outputs": [],
   "source": [
    "lastFrames=[0,1,2,3]\n",
    "lastFrameIDs=[0,0,0,0]\n",
    "currFrames=[0,1,2,3]\n",
    "diffFrames=[0,1,2,3]\n",
    "finlFrames=[0,1,2,3]\n",
    "timedurations=[0,0,0,0]"
   ]
  },
  {
   "cell_type": "code",
   "execution_count": 7,
   "metadata": {},
   "outputs": [
    {
     "data": {
      "text/plain": [
       "False"
      ]
     },
     "execution_count": 7,
     "metadata": {},
     "output_type": "execute_result"
    }
   ],
   "source": [
    "type(lastFrames[0]) != int"
   ]
  },
  {
   "cell_type": "code",
   "execution_count": null,
   "metadata": {},
   "outputs": [],
   "source": [
    "#NOTA A\n",
    "#         for packet in player[j].demux():\n",
    "#             for frame in packet.decode():\n",
    "#                 #if frame.type == 'video':\n",
    "#                 currtime = time.time()\n",
    "#                 currid = frame.index\n",
    "#                 if(currid - lastid) >= 30:\n",
    "#                     filename='steeloutput/cam-{0}-frame-{1}.png'.format(j,frame.index)\n",
    "#                     frame.to_image().save(filename)\n",
    "#                     lastimte = curr\n",
    "#                     lastid = currid\n",
    "\n",
    "#                     currFrames[j] = cv2.imread(filename, cv2.IMREAD_GRAYSCALE )\n",
    "#                     currFrames[j] = cv2.GaussianBlur(currFrames[j], (GAUSSIAN_KERNEL,GAUSSIAN_KERNEL), 0)"
   ]
  },
  {
   "cell_type": "code",
   "execution_count": 36,
   "metadata": {
    "scrolled": true
   },
   "outputs": [
    {
     "name": "stdout",
     "output_type": "stream",
     "text": [
      "ERROR Cam  0 --------> [Errno 541478725] End of file\n",
      "ERROR Cam  1 --------> [Errno 541478725] End of file\n",
      "ERROR Cam  2 --------> [Errno 541478725] End of file\n",
      "ERROR Cam  3 --------> [Errno 541478725] End of file\n",
      "ERROR Cam  0 --------> [Errno 541478725] End of file\n",
      "ERROR Cam  1 --------> [Errno 541478725] End of file\n",
      "ERROR Cam  2 --------> [Errno 541478725] End of file\n",
      "ERROR Cam  3 --------> [Errno 541478725] End of file\n",
      "ERROR Cam  0 --------> [Errno 541478725] End of file\n",
      "ERROR Cam  1 --------> [Errno 541478725] End of file\n",
      "ERROR Cam  2 --------> [Errno 541478725] End of file\n",
      "ERROR Cam  3 --------> [Errno 541478725] End of file\n",
      "ERROR Cam  0 --------> [Errno 541478725] End of file\n",
      "ERROR Cam  1 --------> [Errno 541478725] End of file\n",
      "ERROR Cam  2 --------> [Errno 541478725] End of file\n",
      "ERROR Cam  3 --------> [Errno 541478725] End of file\n",
      "ERROR Cam  0 --------> [Errno 541478725] End of file\n",
      "ERROR Cam  1 --------> [Errno 541478725] End of file\n",
      "ERROR Cam  2 --------> [Errno 541478725] End of file\n",
      "ERROR Cam  3 --------> [Errno 541478725] End of file\n",
      "ERROR Cam  0 --------> [Errno 541478725] End of file\n",
      "ERROR Cam  1 --------> [Errno 541478725] End of file\n",
      "ERROR Cam  2 --------> [Errno 541478725] End of file\n",
      "ERROR Cam  3 --------> [Errno 541478725] End of file\n",
      "ERROR Cam  0 --------> [Errno 541478725] End of file\n",
      "ERROR Cam  1 --------> [Errno 541478725] End of file\n",
      "ERROR Cam  2 --------> [Errno 541478725] End of file\n",
      "ERROR Cam  3 --------> [Errno 541478725] End of file\n",
      "ERROR Cam  0 --------> [Errno 541478725] End of file\n",
      "ERROR Cam  1 --------> [Errno 541478725] End of file\n",
      "ERROR Cam  2 --------> [Errno 541478725] End of file\n",
      "ERROR Cam  3 --------> [Errno 541478725] End of file\n",
      "ERROR Cam  0 --------> [Errno 541478725] End of file\n",
      "ERROR Cam  1 --------> [Errno 541478725] End of file\n",
      "ERROR Cam  2 --------> [Errno 541478725] End of file\n",
      "ERROR Cam  3 --------> [Errno 541478725] End of file\n",
      "ERROR Cam  0 --------> [Errno 541478725] End of file\n",
      "ERROR Cam  1 --------> [Errno 541478725] End of file\n",
      "ERROR Cam  2 --------> [Errno 541478725] End of file\n",
      "ERROR Cam  3 --------> [Errno 541478725] End of file\n",
      "ERROR Cam  0 --------> [Errno 541478725] End of file\n",
      "ERROR Cam  1 --------> [Errno 541478725] End of file\n",
      "ERROR Cam  2 --------> [Errno 541478725] End of file\n",
      "ERROR Cam  3 --------> [Errno 541478725] End of file\n",
      "ERROR Cam  0 --------> [Errno 541478725] End of file\n",
      "ERROR Cam  1 --------> [Errno 541478725] End of file\n",
      "ERROR Cam  2 --------> [Errno 541478725] End of file\n",
      "ERROR Cam  3 --------> [Errno 541478725] End of file\n",
      "ERROR Cam  0 --------> [Errno 541478725] End of file\n",
      "ERROR Cam  1 --------> [Errno 541478725] End of file\n",
      "ERROR Cam  2 --------> [Errno 541478725] End of file\n",
      "ERROR Cam  3 --------> [Errno 541478725] End of file\n",
      "ERROR Cam  0 --------> [Errno 541478725] End of file\n",
      "ERROR Cam  1 --------> [Errno 541478725] End of file\n",
      "ERROR Cam  2 --------> [Errno 541478725] End of file\n",
      "ERROR Cam  3 --------> [Errno 541478725] End of file\n",
      "ERROR Cam  0 --------> [Errno 541478725] End of file\n",
      "ERROR Cam  1 --------> [Errno 541478725] End of file\n",
      "ERROR Cam  2 --------> [Errno 541478725] End of file\n",
      "ERROR Cam  3 --------> [Errno 541478725] End of file\n",
      "ERROR Cam  0 --------> [Errno 541478725] End of file\n",
      "ERROR Cam  1 --------> [Errno 541478725] End of file\n",
      "ERROR Cam  2 --------> [Errno 541478725] End of file\n",
      "ERROR Cam  3 --------> [Errno 541478725] End of file\n",
      "ERROR Cam  0 --------> [Errno 541478725] End of file\n",
      "ERROR Cam  1 --------> [Errno 541478725] End of file\n",
      "ERROR Cam  2 --------> [Errno 541478725] End of file\n",
      "ERROR Cam  3 --------> [Errno 541478725] End of file\n",
      "ERROR Cam  0 --------> [Errno 541478725] End of file\n",
      "ERROR Cam  1 --------> [Errno 541478725] End of file\n",
      "ERROR Cam  2 --------> [Errno 541478725] End of file\n",
      "ERROR Cam  3 --------> [Errno 541478725] End of file\n",
      "ERROR Cam  0 --------> [Errno 541478725] End of file\n",
      "ERROR Cam  1 --------> [Errno 541478725] End of file\n",
      "ERROR Cam  2 --------> [Errno 541478725] End of file\n",
      "ERROR Cam  3 --------> [Errno 541478725] End of file\n",
      "ERROR Cam  0 --------> [Errno 541478725] End of file\n",
      "ERROR Cam  1 --------> [Errno 541478725] End of file\n",
      "ERROR Cam  2 --------> [Errno 541478725] End of file\n",
      "ERROR Cam  3 --------> [Errno 541478725] End of file\n",
      "ERROR Cam  0 --------> [Errno 541478725] End of file\n",
      "ERROR Cam  1 --------> [Errno 541478725] End of file\n",
      "ERROR Cam  2 --------> [Errno 541478725] End of file\n",
      "ERROR Cam  3 --------> [Errno 541478725] End of file\n",
      "ERROR Cam  0 --------> [Errno 541478725] End of file\n",
      "ERROR Cam  1 --------> [Errno 541478725] End of file\n",
      "ERROR Cam  2 --------> [Errno 541478725] End of file\n",
      "ERROR Cam  3 --------> [Errno 541478725] End of file\n",
      "ERROR Cam  0 --------> [Errno 541478725] End of file\n",
      "ERROR Cam  1 --------> [Errno 541478725] End of file\n",
      "ERROR Cam  2 --------> [Errno 541478725] End of file\n",
      "ERROR Cam  3 --------> [Errno 541478725] End of file\n",
      "ERROR Cam  0 --------> [Errno 541478725] End of file\n",
      "ERROR Cam  1 --------> [Errno 541478725] End of file\n",
      "ERROR Cam  2 --------> [Errno 541478725] End of file\n",
      "ERROR Cam  3 --------> [Errno 541478725] End of file\n",
      "ERROR Cam  0 --------> [Errno 541478725] End of file\n",
      "ERROR Cam  1 --------> [Errno 541478725] End of file\n",
      "ERROR Cam  2 --------> [Errno 541478725] End of file\n",
      "ERROR Cam  3 --------> [Errno 541478725] End of file\n",
      "ERROR Cam  0 --------> [Errno 541478725] End of file\n",
      "ERROR Cam  1 --------> [Errno 541478725] End of file\n",
      "ERROR Cam  2 --------> [Errno 541478725] End of file\n",
      "ERROR Cam  3 --------> [Errno 541478725] End of file\n",
      "ERROR Cam  0 --------> [Errno 541478725] End of file\n",
      "ERROR Cam  1 --------> [Errno 541478725] End of file\n",
      "ERROR Cam  2 --------> [Errno 541478725] End of file\n",
      "ERROR Cam  3 --------> [Errno 541478725] End of file\n",
      "ERROR Cam  0 --------> [Errno 541478725] End of file\n",
      "ERROR Cam  1 --------> [Errno 541478725] End of file\n",
      "ERROR Cam  2 --------> [Errno 541478725] End of file\n",
      "ERROR Cam  3 --------> [Errno 541478725] End of file\n",
      "ERROR Cam  0 --------> [Errno 541478725] End of file\n",
      "ERROR Cam  1 --------> [Errno 541478725] End of file\n",
      "ERROR Cam  2 --------> [Errno 541478725] End of file\n",
      "ERROR Cam  3 --------> [Errno 541478725] End of file\n",
      "ERROR Cam  0 --------> [Errno 541478725] End of file\n",
      "ERROR Cam  1 --------> [Errno 541478725] End of file\n",
      "ERROR Cam  2 --------> [Errno 541478725] End of file\n",
      "ERROR Cam  3 --------> [Errno 541478725] End of file\n",
      "ERROR Cam  0 --------> [Errno 541478725] End of file\n",
      "ERROR Cam  1 --------> [Errno 541478725] End of file\n",
      "ERROR Cam  2 --------> [Errno 541478725] End of file\n",
      "ERROR Cam  3 --------> [Errno 541478725] End of file\n",
      "ERROR Cam  0 --------> [Errno 541478725] End of file\n",
      "ERROR Cam  1 --------> [Errno 541478725] End of file\n",
      "ERROR Cam  2 --------> [Errno 541478725] End of file\n",
      "ERROR Cam  3 --------> [Errno 541478725] End of file\n",
      "ERROR Cam  0 --------> [Errno 541478725] End of file\n",
      "ERROR Cam  1 --------> [Errno 541478725] End of file\n",
      "ERROR Cam  2 --------> [Errno 541478725] End of file\n",
      "ERROR Cam  3 --------> [Errno 541478725] End of file\n",
      "ERROR Cam  0 --------> [Errno 541478725] End of file\n",
      "ERROR Cam  1 --------> [Errno 541478725] End of file\n",
      "ERROR Cam  2 --------> [Errno 541478725] End of file\n",
      "ERROR Cam  3 --------> [Errno 541478725] End of file\n",
      "ERROR Cam  0 --------> [Errno 541478725] End of file\n",
      "ERROR Cam  1 --------> [Errno 541478725] End of file\n",
      "ERROR Cam  2 --------> [Errno 541478725] End of file\n",
      "ERROR Cam  3 --------> [Errno 541478725] End of file\n",
      "ERROR Cam  0 --------> [Errno 541478725] End of file\n",
      "ERROR Cam  1 --------> [Errno 541478725] End of file\n",
      "ERROR Cam  2 --------> [Errno 541478725] End of file\n",
      "ERROR Cam  3 --------> [Errno 541478725] End of file\n",
      "ERROR Cam  0 --------> [Errno 541478725] End of file\n",
      "ERROR Cam  1 --------> [Errno 541478725] End of file\n",
      "ERROR Cam  2 --------> [Errno 541478725] End of file\n",
      "ERROR Cam  3 --------> [Errno 541478725] End of file\n",
      "ERROR Cam  0 --------> [Errno 541478725] End of file\n",
      "ERROR Cam  1 --------> [Errno 541478725] End of file\n",
      "ERROR Cam  2 --------> [Errno 541478725] End of file\n",
      "ERROR Cam  3 --------> [Errno 541478725] End of file\n",
      "ERROR Cam  0 --------> [Errno 541478725] End of file\n",
      "ERROR Cam  1 --------> [Errno 541478725] End of file\n",
      "ERROR Cam  2 --------> [Errno 541478725] End of file\n",
      "ERROR Cam  3 --------> [Errno 541478725] End of file\n",
      "ERROR Cam  0 --------> [Errno 541478725] End of file\n",
      "ERROR Cam  1 --------> [Errno 541478725] End of file\n",
      "ERROR Cam  2 --------> [Errno 541478725] End of file\n",
      "ERROR Cam  3 --------> [Errno 541478725] End of file\n",
      "ERROR Cam  0 --------> [Errno 541478725] End of file\n",
      "ERROR Cam  1 --------> [Errno 541478725] End of file\n",
      "ERROR Cam  2 --------> [Errno 541478725] End of file\n",
      "ERROR Cam  3 --------> [Errno 541478725] End of file\n",
      "ERROR Cam  0 --------> [Errno 541478725] End of file\n",
      "ERROR Cam  1 --------> [Errno 541478725] End of file\n",
      "ERROR Cam  2 --------> [Errno 541478725] End of file\n",
      "ERROR Cam  3 --------> [Errno 541478725] End of file\n",
      "ERROR Cam  0 --------> [Errno 541478725] End of file\n",
      "ERROR Cam  1 --------> [Errno 541478725] End of file\n",
      "ERROR Cam  2 --------> [Errno 541478725] End of file\n",
      "ERROR Cam  3 --------> [Errno 541478725] End of file\n",
      "ERROR Cam  0 --------> [Errno 541478725] End of file\n",
      "ERROR Cam  1 --------> [Errno 541478725] End of file\n",
      "ERROR Cam  2 --------> [Errno 541478725] End of file\n",
      "ERROR Cam  3 --------> [Errno 541478725] End of file\n",
      "ERROR Cam  0 --------> [Errno 541478725] End of file\n",
      "ERROR Cam  1 --------> [Errno 541478725] End of file\n",
      "ERROR Cam  2 --------> [Errno 541478725] End of file\n",
      "ERROR Cam  3 --------> [Errno 541478725] End of file\n",
      "ERROR Cam  0 --------> [Errno 541478725] End of file\n",
      "ERROR Cam  1 --------> [Errno 541478725] End of file\n",
      "ERROR Cam  2 --------> [Errno 541478725] End of file\n",
      "ERROR Cam  3 --------> [Errno 541478725] End of file\n",
      "ERROR Cam  0 --------> [Errno 541478725] End of file\n",
      "ERROR Cam  1 --------> [Errno 541478725] End of file\n",
      "ERROR Cam  2 --------> [Errno 541478725] End of file\n",
      "ERROR Cam  3 --------> [Errno 541478725] End of file\n",
      "ERROR Cam  0 --------> [Errno 541478725] End of file\n",
      "ERROR Cam  1 --------> [Errno 541478725] End of file\n",
      "ERROR Cam  2 --------> [Errno 541478725] End of file\n",
      "ERROR Cam  3 --------> [Errno 541478725] End of file\n",
      "ERROR Cam  0 --------> [Errno 541478725] End of file\n",
      "ERROR Cam  1 --------> [Errno 541478725] End of file\n",
      "ERROR Cam  2 --------> [Errno 541478725] End of file\n",
      "ERROR Cam  3 --------> [Errno 541478725] End of file\n",
      "ERROR Cam  0 --------> [Errno 541478725] End of file\n",
      "ERROR Cam  1 --------> [Errno 541478725] End of file\n",
      "ERROR Cam  2 --------> [Errno 541478725] End of file\n",
      "ERROR Cam  3 --------> [Errno 541478725] End of file\n",
      "ERROR Cam  0 --------> [Errno 541478725] End of file\n",
      "ERROR Cam  1 --------> [Errno 541478725] End of file\n",
      "ERROR Cam  2 --------> [Errno 541478725] End of file\n",
      "ERROR Cam  3 --------> [Errno 541478725] End of file\n",
      "ERROR Cam  0 --------> [Errno 541478725] End of file\n",
      "ERROR Cam  1 --------> [Errno 541478725] End of file\n",
      "ERROR Cam  2 --------> [Errno 541478725] End of file\n",
      "ERROR Cam  3 --------> [Errno 541478725] End of file\n",
      "ERROR Cam  0 --------> [Errno 541478725] End of file\n",
      "ERROR Cam  1 --------> [Errno 541478725] End of file\n",
      "ERROR Cam  2 --------> [Errno 541478725] End of file\n",
      "ERROR Cam  3 --------> [Errno 541478725] End of file\n",
      "ERROR Cam  0 --------> [Errno 541478725] End of file\n",
      "ERROR Cam  1 --------> [Errno 541478725] End of file\n",
      "ERROR Cam  2 --------> [Errno 541478725] End of file\n",
      "ERROR Cam  3 --------> [Errno 541478725] End of file\n",
      "ERROR Cam  0 --------> [Errno 541478725] End of file\n",
      "ERROR Cam  1 --------> [Errno 541478725] End of file\n",
      "ERROR Cam  2 --------> [Errno 541478725] End of file\n",
      "ERROR Cam  3 --------> [Errno 541478725] End of file\n",
      "ERROR Cam  0 --------> [Errno 541478725] End of file\n",
      "ERROR Cam  1 --------> [Errno 541478725] End of file\n",
      "ERROR Cam  2 --------> [Errno 541478725] End of file\n",
      "ERROR Cam  3 --------> [Errno 541478725] End of file\n",
      "ERROR Cam  0 --------> [Errno 541478725] End of file\n",
      "ERROR Cam  1 --------> [Errno 541478725] End of file\n",
      "ERROR Cam  2 --------> [Errno 541478725] End of file\n",
      "ERROR Cam  3 --------> [Errno 541478725] End of file\n",
      "ERROR Cam  0 --------> [Errno 541478725] End of file\n",
      "ERROR Cam  1 --------> [Errno 541478725] End of file\n",
      "ERROR Cam  2 --------> [Errno 541478725] End of file\n",
      "ERROR Cam  3 --------> [Errno 541478725] End of file\n",
      "ERROR Cam  0 --------> [Errno 541478725] End of file\n",
      "ERROR Cam  1 --------> [Errno 541478725] End of file\n",
      "ERROR Cam  2 --------> [Errno 541478725] End of file\n",
      "ERROR Cam  3 --------> [Errno 541478725] End of file\n",
      "ERROR Cam  0 --------> [Errno 541478725] End of file\n",
      "ERROR Cam  1 --------> [Errno 541478725] End of file\n",
      "ERROR Cam  2 --------> [Errno 541478725] End of file\n",
      "ERROR Cam  3 --------> [Errno 541478725] End of file\n",
      "ERROR Cam  0 --------> [Errno 541478725] End of file\n",
      "ERROR Cam  1 --------> [Errno 541478725] End of file\n",
      "ERROR Cam  2 --------> [Errno 541478725] End of file\n",
      "ERROR Cam  3 --------> [Errno 541478725] End of file\n",
      "ERROR Cam  0 --------> [Errno 541478725] End of file\n",
      "ERROR Cam  1 --------> [Errno 541478725] End of file\n",
      "ERROR Cam  2 --------> [Errno 541478725] End of file\n",
      "ERROR Cam  3 --------> [Errno 541478725] End of file\n",
      "ERROR Cam  0 --------> [Errno 541478725] End of file\n",
      "ERROR Cam  1 --------> [Errno 541478725] End of file\n",
      "ERROR Cam  2 --------> [Errno 541478725] End of file\n",
      "ERROR Cam  3 --------> [Errno 541478725] End of file\n",
      "ERROR Cam  0 --------> [Errno 541478725] End of file\n",
      "ERROR Cam  1 --------> [Errno 541478725] End of file\n",
      "ERROR Cam  2 --------> [Errno 541478725] End of file\n",
      "ERROR Cam  3 --------> [Errno 541478725] End of file\n",
      "ERROR Cam  0 --------> [Errno 541478725] End of file\n",
      "ERROR Cam  1 --------> [Errno 541478725] End of file\n",
      "ERROR Cam  2 --------> [Errno 541478725] End of file\n",
      "ERROR Cam  3 --------> [Errno 541478725] End of file\n",
      "ERROR Cam  0 --------> [Errno 541478725] End of file\n",
      "ERROR Cam  1 --------> [Errno 541478725] End of file\n",
      "ERROR Cam  2 --------> [Errno 541478725] End of file\n",
      "ERROR Cam  3 --------> [Errno 541478725] End of file\n",
      "ERROR Cam  0 --------> [Errno 541478725] End of file\n",
      "ERROR Cam  1 --------> [Errno 541478725] End of file\n",
      "ERROR Cam  2 --------> [Errno 541478725] End of file\n",
      "ERROR Cam  3 --------> [Errno 541478725] End of file\n",
      "ERROR Cam  0 --------> [Errno 541478725] End of file\n",
      "ERROR Cam  1 --------> [Errno 541478725] End of file\n",
      "ERROR Cam  2 --------> [Errno 541478725] End of file\n",
      "ERROR Cam  3 --------> [Errno 541478725] End of file\n",
      "ERROR Cam  0 --------> [Errno 541478725] End of file\n",
      "ERROR Cam  1 --------> [Errno 541478725] End of file\n",
      "ERROR Cam  2 --------> [Errno 541478725] End of file\n",
      "ERROR Cam  3 --------> [Errno 541478725] End of file\n",
      "ERROR Cam  0 --------> [Errno 541478725] End of file\n",
      "ERROR Cam  1 --------> [Errno 541478725] End of file\n",
      "ERROR Cam  2 --------> [Errno 541478725] End of file\n",
      "ERROR Cam  3 --------> [Errno 541478725] End of file\n",
      "ERROR Cam  0 --------> [Errno 541478725] End of file\n",
      "ERROR Cam  1 --------> [Errno 541478725] End of file\n",
      "ERROR Cam  2 --------> [Errno 541478725] End of file\n",
      "ERROR Cam  3 --------> [Errno 541478725] End of file\n",
      "ERROR Cam  0 --------> [Errno 541478725] End of file\n",
      "ERROR Cam  1 --------> [Errno 541478725] End of file\n",
      "ERROR Cam  2 --------> [Errno 541478725] End of file\n",
      "ERROR Cam  3 --------> [Errno 541478725] End of file\n",
      "ERROR Cam  0 --------> [Errno 541478725] End of file\n",
      "ERROR Cam  1 --------> [Errno 541478725] End of file\n",
      "ERROR Cam  2 --------> [Errno 541478725] End of file\n",
      "ERROR Cam  3 --------> [Errno 541478725] End of file\n",
      "ERROR Cam  0 --------> [Errno 541478725] End of file\n",
      "ERROR Cam  1 --------> [Errno 541478725] End of file\n",
      "ERROR Cam  2 --------> [Errno 541478725] End of file\n",
      "ERROR Cam  3 --------> [Errno 541478725] End of file\n",
      "ERROR Cam  0 --------> [Errno 541478725] End of file\n",
      "ERROR Cam  1 --------> [Errno 541478725] End of file\n",
      "ERROR Cam  2 --------> [Errno 541478725] End of file\n",
      "ERROR Cam  3 --------> [Errno 541478725] End of file\n",
      "ERROR Cam  0 --------> [Errno 541478725] End of file\n",
      "ERROR Cam  1 --------> [Errno 541478725] End of file\n",
      "ERROR Cam  2 --------> [Errno 541478725] End of file\n",
      "ERROR Cam  3 --------> [Errno 541478725] End of file\n",
      "ERROR Cam  0 --------> [Errno 541478725] End of file\n",
      "ERROR Cam  1 --------> [Errno 541478725] End of file\n",
      "ERROR Cam  2 --------> [Errno 541478725] End of file\n",
      "ERROR Cam  3 --------> [Errno 541478725] End of file\n",
      "ERROR Cam  0 --------> [Errno 541478725] End of file\n",
      "ERROR Cam  1 --------> [Errno 541478725] End of file\n",
      "ERROR Cam  2 --------> [Errno 541478725] End of file\n",
      "ERROR Cam  3 --------> [Errno 541478725] End of file\n",
      "ERROR Cam  0 --------> [Errno 541478725] End of file\n",
      "ERROR Cam  1 --------> [Errno 541478725] End of file\n",
      "ERROR Cam  2 --------> [Errno 541478725] End of file\n",
      "ERROR Cam  3 --------> [Errno 541478725] End of file\n",
      "ERROR Cam  0 --------> [Errno 541478725] End of file\n",
      "ERROR Cam  1 --------> [Errno 541478725] End of file\n",
      "ERROR Cam  2 --------> [Errno 541478725] End of file\n",
      "ERROR Cam  3 --------> [Errno 541478725] End of file\n",
      "ERROR Cam  0 --------> [Errno 541478725] End of file\n",
      "ERROR Cam  1 --------> [Errno 541478725] End of file\n",
      "ERROR Cam  2 --------> [Errno 541478725] End of file\n",
      "ERROR Cam  3 --------> [Errno 541478725] End of file\n",
      "ERROR Cam  0 --------> [Errno 541478725] End of file\n",
      "ERROR Cam  1 --------> [Errno 541478725] End of file\n",
      "ERROR Cam  2 --------> [Errno 541478725] End of file\n",
      "ERROR Cam  3 --------> [Errno 541478725] End of file\n",
      "ERROR Cam  0 --------> [Errno 541478725] End of file\n",
      "ERROR Cam  1 --------> [Errno 541478725] End of file\n",
      "ERROR Cam  2 --------> [Errno 541478725] End of file\n",
      "ERROR Cam  3 --------> [Errno 541478725] End of file\n",
      "ERROR Cam  0 --------> [Errno 541478725] End of file\n",
      "ERROR Cam  1 --------> [Errno 541478725] End of file\n",
      "ERROR Cam  2 --------> [Errno 541478725] End of file\n",
      "ERROR Cam  3 --------> [Errno 541478725] End of file\n",
      "ERROR Cam  0 --------> [Errno 541478725] End of file\n",
      "ERROR Cam  1 --------> [Errno 541478725] End of file\n",
      "ERROR Cam  2 --------> [Errno 541478725] End of file\n",
      "ERROR Cam  3 --------> [Errno 541478725] End of file\n",
      "ERROR Cam  0 --------> [Errno 541478725] End of file\n",
      "ERROR Cam  1 --------> [Errno 541478725] End of file\n",
      "ERROR Cam  2 --------> [Errno 541478725] End of file\n",
      "ERROR Cam  3 --------> [Errno 541478725] End of file\n",
      "ERROR Cam  0 --------> [Errno 541478725] End of file\n",
      "ERROR Cam  1 --------> [Errno 541478725] End of file\n",
      "ERROR Cam  2 --------> [Errno 541478725] End of file\n",
      "ERROR Cam  3 --------> [Errno 541478725] End of file\n",
      "ERROR Cam  0 --------> [Errno 541478725] End of file\n",
      "ERROR Cam  1 --------> [Errno 541478725] End of file\n",
      "ERROR Cam  2 --------> [Errno 541478725] End of file\n",
      "ERROR Cam  3 --------> [Errno 541478725] End of file\n",
      "ERROR Cam  0 --------> [Errno 541478725] End of file\n",
      "ERROR Cam  1 --------> [Errno 541478725] End of file\n",
      "ERROR Cam  2 --------> [Errno 541478725] End of file\n",
      "ERROR Cam  3 --------> [Errno 541478725] End of file\n",
      "ERROR Cam  0 --------> [Errno 541478725] End of file\n",
      "ERROR Cam  1 --------> [Errno 541478725] End of file\n",
      "ERROR Cam  2 --------> [Errno 541478725] End of file\n",
      "ERROR Cam  3 --------> [Errno 541478725] End of file\n",
      "ERROR Cam  0 --------> [Errno 541478725] End of file\n",
      "ERROR Cam  1 --------> [Errno 541478725] End of file\n",
      "ERROR Cam  2 --------> [Errno 541478725] End of file\n",
      "ERROR Cam  3 --------> [Errno 541478725] End of file\n",
      "ERROR Cam  0 --------> [Errno 541478725] End of file\n",
      "ERROR Cam  1 --------> [Errno 541478725] End of file\n",
      "ERROR Cam  2 --------> [Errno 541478725] End of file\n",
      "ERROR Cam  3 --------> [Errno 541478725] End of file\n",
      "ERROR Cam  0 --------> [Errno 541478725] End of file\n",
      "ERROR Cam  1 --------> [Errno 541478725] End of file\n",
      "ERROR Cam  2 --------> [Errno 541478725] End of file\n",
      "ERROR Cam  3 --------> [Errno 541478725] End of file\n",
      "ERROR Cam  0 --------> [Errno 541478725] End of file\n",
      "ERROR Cam  1 --------> [Errno 541478725] End of file\n",
      "ERROR Cam  2 --------> [Errno 541478725] End of file\n",
      "ERROR Cam  3 --------> [Errno 541478725] End of file\n",
      "ERROR Cam  0 --------> [Errno 541478725] End of file\n",
      "ERROR Cam  1 --------> [Errno 541478725] End of file\n",
      "ERROR Cam  2 --------> [Errno 541478725] End of file\n",
      "ERROR Cam  3 --------> [Errno 541478725] End of file\n",
      "ERROR Cam  0 --------> [Errno 541478725] End of file\n",
      "ERROR Cam  1 --------> [Errno 541478725] End of file\n",
      "ERROR Cam  2 --------> [Errno 541478725] End of file\n",
      "ERROR Cam  3 --------> [Errno 541478725] End of file\n",
      "ERROR Cam  0 --------> [Errno 541478725] End of file\n",
      "ERROR Cam  1 --------> [Errno 541478725] End of file\n",
      "ERROR Cam  2 --------> [Errno 541478725] End of file\n",
      "ERROR Cam  3 --------> [Errno 541478725] End of file\n",
      "ERROR Cam  0 --------> [Errno 541478725] End of file\n",
      "ERROR Cam  1 --------> [Errno 541478725] End of file\n",
      "ERROR Cam  2 --------> [Errno 541478725] End of file\n",
      "ERROR Cam  3 --------> [Errno 541478725] End of file\n",
      "ERROR Cam  0 --------> [Errno 541478725] End of file\n",
      "ERROR Cam  1 --------> [Errno 541478725] End of file\n",
      "ERROR Cam  2 --------> [Errno 541478725] End of file\n",
      "ERROR Cam  3 --------> [Errno 541478725] End of file\n",
      "ERROR Cam  0 --------> [Errno 541478725] End of file\n",
      "ERROR Cam  1 --------> [Errno 541478725] End of file\n",
      "ERROR Cam  2 --------> [Errno 541478725] End of file\n",
      "ERROR Cam  3 --------> [Errno 541478725] End of file\n"
     ]
    }
   ],
   "source": [
    "# for av\n",
    "lastime=0\n",
    "lastid=0\n",
    "i=0\n",
    "k=0\n",
    "while k<100:\n",
    "    \n",
    "    for j in range (cams):\n",
    "        try:\n",
    "            filename = (savepath+str(i)+'_'+str(i) + 'x.snapshot.tmp.png')\n",
    "            currFrames[j] = capPlayer(player[j],j)\n",
    "            # note A\n",
    "            if(type(lastFrames[j]) != int):\n",
    "                diffFrames[j] = ((currFrames[j] - lastFrames[j])+255)/2\n",
    "                finlFrames[j] = np.dstack([lastFrames[j], currFrames[j], diffFrames[j]])\n",
    "                print(str(i)+'  -----------finlFrames shape--->', finlFrames[j].shape)\n",
    "                cv2.imwrite(savepath + 'cam'+str(j)+'_'+str(i)+'.png', finlFrames[j] )\n",
    "                lastFrames[j] = currFrames[j]\n",
    "                i+=1\n",
    "\n",
    "\n",
    "            else:\n",
    "                #1st round\n",
    "                lastFrames[j] = currFrames[j]\n",
    "                print(str(i)+'  -----------init--->')\n",
    "    #                 else:\n",
    "    #                     continue\n",
    "            j+=1\n",
    "        except Exception as e:\n",
    "            print('ERROR Cam ',str(j),'-------->',e)\n",
    "            continue\n",
    "    k+=1"
   ]
  },
  {
   "cell_type": "code",
   "execution_count": 7,
   "metadata": {},
   "outputs": [
    {
     "ename": "IndexError",
     "evalue": "list index out of range",
     "output_type": "error",
     "traceback": [
      "\u001b[1;31m---------------------------------------------------------------------------\u001b[0m",
      "\u001b[1;31mIndexError\u001b[0m                                Traceback (most recent call last)",
      "\u001b[1;32m<ipython-input-7-75db05a1b38a>\u001b[0m in \u001b[0;36m<module>\u001b[1;34m()\u001b[0m\n\u001b[1;32m----> 1\u001b[1;33m \u001b[0mplayer\u001b[0m\u001b[1;33m[\u001b[0m\u001b[1;36m0\u001b[0m\u001b[1;33m]\u001b[0m\u001b[1;33m\u001b[0m\u001b[0m\n\u001b[0m",
      "\u001b[1;31mIndexError\u001b[0m: list index out of range"
     ]
    }
   ],
   "source": [
    "player[0]"
   ]
  },
  {
   "cell_type": "markdown",
   "metadata": {},
   "source": [
    "# for vlc\n",
    "i=0\n",
    "k=0\n",
    "while k<10:\n",
    "    time.sleep(0.5)\n",
    "    \n",
    "    for j in range (cams):\n",
    "        filename = (savepath+str(i) + 'x.snapshot.tmp.png')\n",
    "        player[j].video_take_snapshot(0, filename, 0, 0)\n",
    "        print(filename)\n",
    "        time.sleep(0.5)\n",
    "        currFrames[j] = cv2.imread(filename, cv2.IMREAD_GRAYSCALE)\n",
    "        print(currFrames[j].shape)\n",
    "        currFrames[j] = cv2.GaussianBlur(currFrames[j], (GAUSSIAN_KERNEL,GAUSSIAN_KERNEL), 0)\n",
    "        if(k>=1):\n",
    "            diffFrames[j] = ((currFrames[j] - lastFrames[j])+255)/2\n",
    "#             print('currFrames shape--->', currFrames[j].shape)\n",
    "#             print('lastFrames shape--->', lastFrames[j].shape)\n",
    "#             print('diffFrames shape--->', diffFrames[j].shape)\n",
    "            finlFrames[j] = np.dstack([lastFrames[j], currFrames[j], diffFrames[j]])\n",
    "            print(str(i)+'  -----------finlFrames shape--->', finlFrames[j].shape)\n",
    "            cv2.imwrite(savepath + 'cam'+str(j)+'_'+str(i)+'.png', finlFrames[j] )\n",
    "            lastFrames[j] = currFrames[j]\n",
    "            \n",
    "            \n",
    "        else:\n",
    "            #1st round\n",
    "            lastFrames[j] = currFrames[j]\n",
    "            print(str(i)+'  -----------init--->')\n",
    "        i+=1\n",
    "        j+=1\n",
    "    k+=1\n",
    "    \n",
    "    "
   ]
  },
  {
   "cell_type": "code",
   "execution_count": 6,
   "metadata": {},
   "outputs": [
    {
     "data": {
      "text/plain": [
       "0"
      ]
     },
     "execution_count": 6,
     "metadata": {},
     "output_type": "execute_result"
    }
   ],
   "source": [
    "import vlc\n",
    "vlcInstance = vlc.Instance()\n",
    "player = vlcInstance.media_player_new()\n",
    "player.set_mrl(addr)\n",
    "player.play()"
   ]
  },
  {
   "cell_type": "code",
   "execution_count": 55,
   "metadata": {},
   "outputs": [
    {
     "ename": "IndexError",
     "evalue": "list index out of range",
     "output_type": "error",
     "traceback": [
      "\u001b[1;31m---------------------------------------------------------------------------\u001b[0m",
      "\u001b[1;31mIndexError\u001b[0m                                Traceback (most recent call last)",
      "\u001b[1;32m<ipython-input-55-735ff5eb30c1>\u001b[0m in \u001b[0;36m<module>\u001b[1;34m()\u001b[0m\n\u001b[0;32m      1\u001b[0m \u001b[0mplayer\u001b[0m\u001b[1;33m[\u001b[0m\u001b[1;36m0\u001b[0m\u001b[1;33m]\u001b[0m\u001b[1;33m.\u001b[0m\u001b[0mstop\u001b[0m\u001b[1;33m(\u001b[0m\u001b[1;33m)\u001b[0m\u001b[1;33m\u001b[0m\u001b[0m\n\u001b[1;32m----> 2\u001b[1;33m \u001b[0mplayer\u001b[0m\u001b[1;33m[\u001b[0m\u001b[1;36m1\u001b[0m\u001b[1;33m]\u001b[0m\u001b[1;33m.\u001b[0m\u001b[0mstop\u001b[0m\u001b[1;33m(\u001b[0m\u001b[1;33m)\u001b[0m\u001b[1;33m\u001b[0m\u001b[0m\n\u001b[0m\u001b[0;32m      3\u001b[0m \u001b[0mplayer\u001b[0m\u001b[1;33m[\u001b[0m\u001b[1;36m2\u001b[0m\u001b[1;33m]\u001b[0m\u001b[1;33m.\u001b[0m\u001b[0mstop\u001b[0m\u001b[1;33m(\u001b[0m\u001b[1;33m)\u001b[0m\u001b[1;33m\u001b[0m\u001b[0m\n\u001b[0;32m      4\u001b[0m \u001b[0mplayer\u001b[0m\u001b[1;33m[\u001b[0m\u001b[1;36m3\u001b[0m\u001b[1;33m]\u001b[0m\u001b[1;33m.\u001b[0m\u001b[0mstop\u001b[0m\u001b[1;33m(\u001b[0m\u001b[1;33m)\u001b[0m\u001b[1;33m\u001b[0m\u001b[0m\n",
      "\u001b[1;31mIndexError\u001b[0m: list index out of range"
     ]
    }
   ],
   "source": [
    "player[0].stop()\n",
    "player[1].stop()\n",
    "player[2].stop()\n",
    "player[3].stop()"
   ]
  },
  {
   "cell_type": "code",
   "execution_count": 24,
   "metadata": {},
   "outputs": [],
   "source": [
    "p.stop()"
   ]
  },
  {
   "cell_type": "code",
   "execution_count": null,
   "metadata": {},
   "outputs": [],
   "source": []
  }
 ],
 "metadata": {
  "kernelspec": {
   "display_name": "Python 3",
   "language": "python",
   "name": "python3"
  },
  "language_info": {
   "codemirror_mode": {
    "name": "ipython",
    "version": 3
   },
   "file_extension": ".py",
   "mimetype": "text/x-python",
   "name": "python",
   "nbconvert_exporter": "python",
   "pygments_lexer": "ipython3",
   "version": "3.6.5"
  }
 },
 "nbformat": 4,
 "nbformat_minor": 2
}
